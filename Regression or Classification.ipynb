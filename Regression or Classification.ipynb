{
 "cells": [
  {
   "cell_type": "markdown",
   "metadata": {},
   "source": [
    "# Drill: Regression or classification\n",
    "\n",
    "For each of the following situations, decide if you would model using a regression or classification model. Discuss your reasoning with your mentor next time you meet.\n",
    "\n",
    "1. The amount a person will spend on a given site in the next 24 months.<br>\n",
    "    Regression, because the output is a continous variable. <br>\n",
    "2. What color car someone is going to buy. <br>\n",
    "    Classification, because the output variable is catgeory(\"dark\",\"light\" or \"black\",\"blue\" etc.)<br>\n",
    "    \n",
    "3. How many children a family will have.<br>\n",
    "    Both regression and classification make sense.Regression might give one float as a result (eg. 1.7). Whereas; classification might give a probaility of 37% for 1 kid and 60% for 2 kids.<bt>\n",
    "4. If someone will sign up for a service.<br>\n",
    "    The way the question is phrased, this askes for clasification (will sign up or won't).If the question would be, with what probability a client will sign up, then regression would be more appropriate.<br>\n",
    "    \n",
    "4. The number of times someone will get sick in a year.<br>\n",
    "    I would use regression, because a float output makes a lot of sense. A probability of 2.3 times makes a lot of sense.Classfication would certainly work as well.<br>\n",
    "5. The probability someone will get sick in the next month.<br>\n",
    "    Because the question askes for a probability,  I would use regression.<br>\n",
    "6. Which medicine will work best for a given patient.<br>\n",
    "    I would use classification here, because treatments can easily be groupe into categorical variables. <br>"
   ]
  },
  {
   "cell_type": "code",
   "execution_count": null,
   "metadata": {},
   "outputs": [],
   "source": []
  }
 ],
 "metadata": {
  "kernelspec": {
   "display_name": "Python 3",
   "language": "python",
   "name": "python3"
  },
  "language_info": {
   "codemirror_mode": {
    "name": "ipython",
    "version": 3
   },
   "file_extension": ".py",
   "mimetype": "text/x-python",
   "name": "python",
   "nbconvert_exporter": "python",
   "pygments_lexer": "ipython3",
   "version": "3.6.5"
  }
 },
 "nbformat": 4,
 "nbformat_minor": 2
}
