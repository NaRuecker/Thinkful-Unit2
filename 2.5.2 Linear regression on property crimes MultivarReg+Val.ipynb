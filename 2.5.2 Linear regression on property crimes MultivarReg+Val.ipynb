{
 "cells": [
  {
   "cell_type": "markdown",
   "metadata": {
    "run_control": {
     "frozen": false,
     "read_only": false
    }
   },
   "source": [
    "# Prepare the Data\n",
    "\n",
    "[Download the Excel file here](https://ucr.fbi.gov/crime-in-the-u.s/2013/crime-in-the-u.s.-2013/tables/table-8/table-8-state-cuts/table_8_offenses_known_to_law_enforcement_new_york_by_city_2013.xls) on crime data in New York State in 2013, provided by the FBI: UCR ([Thinkful mirror](https://raw.githubusercontent.com/Thinkful-Ed/data-201-resources/master/New_York_offenses/NEW_YORK-Offenses_Known_to_Law_Enforcement_by_City_2013%20-%2013tbl8ny.csv)).\n",
    "\n",
    "Prepare this data to model with multivariable regression (including data cleaning if necessary) according to this specification:\n",
    "\n",
    "$$ Property crime = \\alpha + Population + Population^2 + Murder + Robbery$$\n",
    "\n",
    "The 'population' variable is already set for you, but you will need to create the last three features.  Robbery and Murder are currently continuous variables.  For this model, please use these variables to create  categorical features where values greater than 0 are coded 1, and values equal to 0 are coded 0.  You'll use this data and model in a later assignment- for now, just write the code you need to get the data ready.  Don't forget basic data cleaning procedures, either!  Do some graphing to see if there are any anomalous cases, and decide how you want to deal with them.\n"
   ]
  },
  {
   "cell_type": "code",
   "execution_count": 1,
   "metadata": {},
   "outputs": [],
   "source": [
    "import pandas as pd\n",
    "from matplotlib import pyplot as plt\n",
    "import numpy as np\n",
    "from sklearn import linear_model\n",
    "%matplotlib inline\n",
    "import seaborn as sns\n",
    "import statsmodels.formula.api as smf\n",
    "from IPython.display import display\n",
    "import math\n",
    "from statsmodels.sandbox.regression.predstd import wls_prediction_std\n",
    "\n",
    "pd.options.display.float_format = '{:.3f}'.format\n",
    "\n",
    "# Suppress annoying harmless error.\n",
    "import warnings\n",
    "warnings.filterwarnings(action=\"ignore\", module=\"scipy\", message=\"^internal gelsd\")"
   ]
  },
  {
   "cell_type": "code",
   "execution_count": 2,
   "metadata": {},
   "outputs": [
    {
     "name": "stderr",
     "output_type": "stream",
     "text": [
      "C:\\Users\\Ruecker-PC\\Anaconda3\\lib\\site-packages\\pandas\\util\\_decorators.py:177: FutureWarning: the 'skip_footer' keyword is deprecated, use 'skipfooter' instead\n",
      "  return func(*args, **kwargs)\n"
     ]
    },
    {
     "data": {
      "text/html": [
       "<div>\n",
       "<style scoped>\n",
       "    .dataframe tbody tr th:only-of-type {\n",
       "        vertical-align: middle;\n",
       "    }\n",
       "\n",
       "    .dataframe tbody tr th {\n",
       "        vertical-align: top;\n",
       "    }\n",
       "\n",
       "    .dataframe thead th {\n",
       "        text-align: right;\n",
       "    }\n",
       "</style>\n",
       "<table border=\"1\" class=\"dataframe\">\n",
       "  <thead>\n",
       "    <tr style=\"text-align: right;\">\n",
       "      <th></th>\n",
       "      <th>City</th>\n",
       "      <th>Population</th>\n",
       "      <th>Violent\n",
       "crime</th>\n",
       "      <th>Murder and\n",
       "nonnegligent\n",
       "manslaughter</th>\n",
       "      <th>Rape\n",
       "(revised\n",
       "definition)1</th>\n",
       "      <th>Rape\n",
       "(legacy\n",
       "definition)2</th>\n",
       "      <th>Robbery</th>\n",
       "      <th>Aggravated\n",
       "assault</th>\n",
       "      <th>Property\n",
       "crime</th>\n",
       "      <th>Burglary</th>\n",
       "      <th>Larceny-\n",
       "theft</th>\n",
       "      <th>Motor\n",
       "vehicle\n",
       "theft</th>\n",
       "      <th>Arson3</th>\n",
       "    </tr>\n",
       "  </thead>\n",
       "  <tbody>\n",
       "    <tr>\n",
       "      <th>0</th>\n",
       "      <td>Adams Village</td>\n",
       "      <td>1861</td>\n",
       "      <td>0</td>\n",
       "      <td>0</td>\n",
       "      <td>nan</td>\n",
       "      <td>0</td>\n",
       "      <td>0</td>\n",
       "      <td>0</td>\n",
       "      <td>12</td>\n",
       "      <td>2</td>\n",
       "      <td>10</td>\n",
       "      <td>0</td>\n",
       "      <td>0.000</td>\n",
       "    </tr>\n",
       "    <tr>\n",
       "      <th>1</th>\n",
       "      <td>Addison Town and Village</td>\n",
       "      <td>2577</td>\n",
       "      <td>3</td>\n",
       "      <td>0</td>\n",
       "      <td>nan</td>\n",
       "      <td>0</td>\n",
       "      <td>0</td>\n",
       "      <td>3</td>\n",
       "      <td>24</td>\n",
       "      <td>3</td>\n",
       "      <td>20</td>\n",
       "      <td>1</td>\n",
       "      <td>0.000</td>\n",
       "    </tr>\n",
       "    <tr>\n",
       "      <th>2</th>\n",
       "      <td>Akron Village</td>\n",
       "      <td>2846</td>\n",
       "      <td>3</td>\n",
       "      <td>0</td>\n",
       "      <td>nan</td>\n",
       "      <td>0</td>\n",
       "      <td>0</td>\n",
       "      <td>3</td>\n",
       "      <td>16</td>\n",
       "      <td>1</td>\n",
       "      <td>15</td>\n",
       "      <td>0</td>\n",
       "      <td>0.000</td>\n",
       "    </tr>\n",
       "    <tr>\n",
       "      <th>3</th>\n",
       "      <td>Albany</td>\n",
       "      <td>97956</td>\n",
       "      <td>791</td>\n",
       "      <td>8</td>\n",
       "      <td>nan</td>\n",
       "      <td>30</td>\n",
       "      <td>227</td>\n",
       "      <td>526</td>\n",
       "      <td>4090</td>\n",
       "      <td>705</td>\n",
       "      <td>3243</td>\n",
       "      <td>142</td>\n",
       "      <td>nan</td>\n",
       "    </tr>\n",
       "    <tr>\n",
       "      <th>4</th>\n",
       "      <td>Albion Village</td>\n",
       "      <td>6388</td>\n",
       "      <td>23</td>\n",
       "      <td>0</td>\n",
       "      <td>nan</td>\n",
       "      <td>3</td>\n",
       "      <td>4</td>\n",
       "      <td>16</td>\n",
       "      <td>223</td>\n",
       "      <td>53</td>\n",
       "      <td>165</td>\n",
       "      <td>5</td>\n",
       "      <td>nan</td>\n",
       "    </tr>\n",
       "  </tbody>\n",
       "</table>\n",
       "</div>"
      ],
      "text/plain": [
       "                       City  Population  Violent\\ncrime  \\\n",
       "0             Adams Village        1861               0   \n",
       "1  Addison Town and Village        2577               3   \n",
       "2             Akron Village        2846               3   \n",
       "3                    Albany       97956             791   \n",
       "4            Albion Village        6388              23   \n",
       "\n",
       "   Murder and\\nnonnegligent\\nmanslaughter  Rape\\n(revised\\ndefinition)1  \\\n",
       "0                                       0                           nan   \n",
       "1                                       0                           nan   \n",
       "2                                       0                           nan   \n",
       "3                                       8                           nan   \n",
       "4                                       0                           nan   \n",
       "\n",
       "   Rape\\n(legacy\\ndefinition)2  Robbery  Aggravated\\nassault  Property\\ncrime  \\\n",
       "0                            0        0                    0               12   \n",
       "1                            0        0                    3               24   \n",
       "2                            0        0                    3               16   \n",
       "3                           30      227                  526             4090   \n",
       "4                            3        4                   16              223   \n",
       "\n",
       "   Burglary  Larceny-\\ntheft  Motor\\nvehicle\\ntheft  Arson3  \n",
       "0         2               10                      0   0.000  \n",
       "1         3               20                      1   0.000  \n",
       "2         1               15                      0   0.000  \n",
       "3       705             3243                    142     nan  \n",
       "4        53              165                      5     nan  "
      ]
     },
     "execution_count": 2,
     "metadata": {},
     "output_type": "execute_result"
    }
   ],
   "source": [
    "df = pd.read_excel(\"table_8_offenses_known_to_law_enforcement_new_york_by_city_2013.xls\", skiprows=4,skip_footer=3)\n",
    "df.head()"
   ]
  },
  {
   "cell_type": "markdown",
   "metadata": {},
   "source": [
    "## Data exploration"
   ]
  },
  {
   "cell_type": "code",
   "execution_count": 3,
   "metadata": {},
   "outputs": [
    {
     "data": {
      "text/html": [
       "<div>\n",
       "<style scoped>\n",
       "    .dataframe tbody tr th:only-of-type {\n",
       "        vertical-align: middle;\n",
       "    }\n",
       "\n",
       "    .dataframe tbody tr th {\n",
       "        vertical-align: top;\n",
       "    }\n",
       "\n",
       "    .dataframe thead th {\n",
       "        text-align: right;\n",
       "    }\n",
       "</style>\n",
       "<table border=\"1\" class=\"dataframe\">\n",
       "  <thead>\n",
       "    <tr style=\"text-align: right;\">\n",
       "      <th></th>\n",
       "      <th>Population</th>\n",
       "      <th>Violent\n",
       "crime</th>\n",
       "      <th>Murder and\n",
       "nonnegligent\n",
       "manslaughter</th>\n",
       "      <th>Rape\n",
       "(revised\n",
       "definition)1</th>\n",
       "      <th>Rape\n",
       "(legacy\n",
       "definition)2</th>\n",
       "      <th>Robbery</th>\n",
       "      <th>Aggravated\n",
       "assault</th>\n",
       "      <th>Property\n",
       "crime</th>\n",
       "      <th>Burglary</th>\n",
       "      <th>Larceny-\n",
       "theft</th>\n",
       "      <th>Motor\n",
       "vehicle\n",
       "theft</th>\n",
       "      <th>Arson3</th>\n",
       "    </tr>\n",
       "  </thead>\n",
       "  <tbody>\n",
       "    <tr>\n",
       "      <th>count</th>\n",
       "      <td>348.000</td>\n",
       "      <td>348.000</td>\n",
       "      <td>348.000</td>\n",
       "      <td>0.000</td>\n",
       "      <td>348.000</td>\n",
       "      <td>348.000</td>\n",
       "      <td>348.000</td>\n",
       "      <td>348.000</td>\n",
       "      <td>348.000</td>\n",
       "      <td>348.000</td>\n",
       "      <td>348.000</td>\n",
       "      <td>187.000</td>\n",
       "    </tr>\n",
       "    <tr>\n",
       "      <th>mean</th>\n",
       "      <td>40037.632</td>\n",
       "      <td>201.595</td>\n",
       "      <td>1.566</td>\n",
       "      <td>nan</td>\n",
       "      <td>5.865</td>\n",
       "      <td>72.902</td>\n",
       "      <td>121.261</td>\n",
       "      <td>792.606</td>\n",
       "      <td>119.684</td>\n",
       "      <td>637.017</td>\n",
       "      <td>35.905</td>\n",
       "      <td>1.872</td>\n",
       "    </tr>\n",
       "    <tr>\n",
       "      <th>std</th>\n",
       "      <td>450037.368</td>\n",
       "      <td>2815.269</td>\n",
       "      <td>18.304</td>\n",
       "      <td>nan</td>\n",
       "      <td>60.425</td>\n",
       "      <td>1031.033</td>\n",
       "      <td>1706.132</td>\n",
       "      <td>7659.725</td>\n",
       "      <td>924.949</td>\n",
       "      <td>6346.054</td>\n",
       "      <td>403.424</td>\n",
       "      <td>10.693</td>\n",
       "    </tr>\n",
       "    <tr>\n",
       "      <th>min</th>\n",
       "      <td>526.000</td>\n",
       "      <td>0.000</td>\n",
       "      <td>0.000</td>\n",
       "      <td>nan</td>\n",
       "      <td>0.000</td>\n",
       "      <td>0.000</td>\n",
       "      <td>0.000</td>\n",
       "      <td>0.000</td>\n",
       "      <td>0.000</td>\n",
       "      <td>0.000</td>\n",
       "      <td>0.000</td>\n",
       "      <td>0.000</td>\n",
       "    </tr>\n",
       "    <tr>\n",
       "      <th>25%</th>\n",
       "      <td>3003.000</td>\n",
       "      <td>2.000</td>\n",
       "      <td>0.000</td>\n",
       "      <td>nan</td>\n",
       "      <td>0.000</td>\n",
       "      <td>0.000</td>\n",
       "      <td>1.000</td>\n",
       "      <td>40.500</td>\n",
       "      <td>6.000</td>\n",
       "      <td>31.000</td>\n",
       "      <td>0.000</td>\n",
       "      <td>0.000</td>\n",
       "    </tr>\n",
       "    <tr>\n",
       "      <th>50%</th>\n",
       "      <td>7233.500</td>\n",
       "      <td>6.000</td>\n",
       "      <td>0.000</td>\n",
       "      <td>nan</td>\n",
       "      <td>0.000</td>\n",
       "      <td>1.000</td>\n",
       "      <td>4.000</td>\n",
       "      <td>112.500</td>\n",
       "      <td>17.500</td>\n",
       "      <td>94.000</td>\n",
       "      <td>2.000</td>\n",
       "      <td>0.000</td>\n",
       "    </tr>\n",
       "    <tr>\n",
       "      <th>75%</th>\n",
       "      <td>18427.500</td>\n",
       "      <td>22.000</td>\n",
       "      <td>0.000</td>\n",
       "      <td>nan</td>\n",
       "      <td>2.000</td>\n",
       "      <td>5.000</td>\n",
       "      <td>14.000</td>\n",
       "      <td>341.000</td>\n",
       "      <td>51.250</td>\n",
       "      <td>287.250</td>\n",
       "      <td>7.000</td>\n",
       "      <td>1.000</td>\n",
       "    </tr>\n",
       "    <tr>\n",
       "      <th>max</th>\n",
       "      <td>8396126.000</td>\n",
       "      <td>52384.000</td>\n",
       "      <td>335.000</td>\n",
       "      <td>nan</td>\n",
       "      <td>1112.000</td>\n",
       "      <td>19170.000</td>\n",
       "      <td>31767.000</td>\n",
       "      <td>141971.000</td>\n",
       "      <td>16606.000</td>\n",
       "      <td>117931.000</td>\n",
       "      <td>7434.000</td>\n",
       "      <td>132.000</td>\n",
       "    </tr>\n",
       "  </tbody>\n",
       "</table>\n",
       "</div>"
      ],
      "text/plain": [
       "       Population  Violent\\ncrime  Murder and\\nnonnegligent\\nmanslaughter  \\\n",
       "count     348.000         348.000                                 348.000   \n",
       "mean    40037.632         201.595                                   1.566   \n",
       "std    450037.368        2815.269                                  18.304   \n",
       "min       526.000           0.000                                   0.000   \n",
       "25%      3003.000           2.000                                   0.000   \n",
       "50%      7233.500           6.000                                   0.000   \n",
       "75%     18427.500          22.000                                   0.000   \n",
       "max   8396126.000       52384.000                                 335.000   \n",
       "\n",
       "       Rape\\n(revised\\ndefinition)1  Rape\\n(legacy\\ndefinition)2   Robbery  \\\n",
       "count                         0.000                      348.000   348.000   \n",
       "mean                            nan                        5.865    72.902   \n",
       "std                             nan                       60.425  1031.033   \n",
       "min                             nan                        0.000     0.000   \n",
       "25%                             nan                        0.000     0.000   \n",
       "50%                             nan                        0.000     1.000   \n",
       "75%                             nan                        2.000     5.000   \n",
       "max                             nan                     1112.000 19170.000   \n",
       "\n",
       "       Aggravated\\nassault  Property\\ncrime  Burglary  Larceny-\\ntheft  \\\n",
       "count              348.000          348.000   348.000          348.000   \n",
       "mean               121.261          792.606   119.684          637.017   \n",
       "std               1706.132         7659.725   924.949         6346.054   \n",
       "min                  0.000            0.000     0.000            0.000   \n",
       "25%                  1.000           40.500     6.000           31.000   \n",
       "50%                  4.000          112.500    17.500           94.000   \n",
       "75%                 14.000          341.000    51.250          287.250   \n",
       "max              31767.000       141971.000 16606.000       117931.000   \n",
       "\n",
       "       Motor\\nvehicle\\ntheft  Arson3  \n",
       "count                348.000 187.000  \n",
       "mean                  35.905   1.872  \n",
       "std                  403.424  10.693  \n",
       "min                    0.000   0.000  \n",
       "25%                    0.000   0.000  \n",
       "50%                    2.000   0.000  \n",
       "75%                    7.000   1.000  \n",
       "max                 7434.000 132.000  "
      ]
     },
     "execution_count": 3,
     "metadata": {},
     "output_type": "execute_result"
    }
   ],
   "source": [
    "df.describe()"
   ]
  },
  {
   "cell_type": "code",
   "execution_count": 4,
   "metadata": {},
   "outputs": [
    {
     "name": "stdout",
     "output_type": "stream",
     "text": [
      "Total number of cities: 348\n"
     ]
    }
   ],
   "source": [
    "#print('Cities:\\n', df['City'].unique())\n",
    "print('Total number of cities:', len(df['City'].unique()))"
   ]
  },
  {
   "cell_type": "markdown",
   "metadata": {},
   "source": [
    "## Clean the data set"
   ]
  },
  {
   "cell_type": "code",
   "execution_count": 5,
   "metadata": {},
   "outputs": [
    {
     "name": "stdout",
     "output_type": "stream",
     "text": [
      "City : 0.0 % is Nan\n",
      "Population : 0.0 % is Nan\n",
      "Murder and nonnegligent manslaughter : 0.0 % is Nan\n",
      "Robbery : 0.0 % is Nan\n",
      "Property crime : 0.0 % is Nan\n"
     ]
    }
   ],
   "source": [
    "# Remove the new lines in the column names\n",
    "df1 = df\n",
    "df1.columns= df1.columns.str.replace('\\n',' ')\n",
    "\n",
    "# Remove left and right white space from towns\n",
    "df1.City = df1.City.str.lstrip()\n",
    "df1.City = df1.City.str.rstrip()\n",
    "\n",
    "# Drop unimportant variables\n",
    "dfi = df1[['City','Population','Murder and nonnegligent manslaughter','Robbery','Property crime']]\n",
    "\n",
    "# Check how many data is missing\n",
    "def check_nans(dfi):\n",
    "    for column in dfi.columns.unique():\n",
    "        print(column,\":\",dfi[column].isnull().sum()/dfi.shape[0]*100 ,\"% is Nan\")\n",
    "\n",
    "check_nans(dfi)"
   ]
  },
  {
   "cell_type": "code",
   "execution_count": 6,
   "metadata": {},
   "outputs": [
    {
     "name": "stderr",
     "output_type": "stream",
     "text": [
      "C:\\Users\\Ruecker-PC\\Anaconda3\\lib\\site-packages\\seaborn\\axisgrid.py:703: UserWarning: Using the boxplot function without specifying `order` is likely to produce an incorrect plot.\n",
      "  warnings.warn(warning)\n"
     ]
    },
    {
     "data": {
      "image/png": "[encoded data removed]",
      "text/plain": [
       "<Figure size 900x360 with 4 Axes>"
      ]
     },
     "metadata": {},
     "output_type": "display_data"
    }
   ],
   "source": [
    "# Check for outliers in important variables\n",
    "dfis = pd.melt(dfi, id_vars=['City'])\n",
    "dfis.head()\n",
    "g = sns.FacetGrid(dfis, col=\"variable\",sharey=False,sharex=False, col_wrap=5, size=5, aspect=.5)\n",
    "g = (g.map(sns.boxplot, \"value\"))\n",
    "g=g.set(xscale=\"log\")\n",
    "\n"
   ]
  },
  {
   "cell_type": "code",
   "execution_count": 7,
   "metadata": {},
   "outputs": [
    {
     "name": "stderr",
     "output_type": "stream",
     "text": [
      "No handles with labels found to put in legend.\n",
      "No handles with labels found to put in legend.\n",
      "No handles with labels found to put in legend.\n",
      "No handles with labels found to put in legend.\n"
     ]
    },
    {
     "data": {
      "image/png": "[encoded data removed]",
      "text/plain": [
       "<Figure size 720x720 with 20 Axes>"
      ]
     },
     "metadata": {},
     "output_type": "display_data"
    }
   ],
   "source": [
    "# Make a scatterplot matrix.\n",
    "g = sns.PairGrid(dfi.dropna(), diag_sharey=False)\n",
    "# Scatterplot.\n",
    "g.map_upper(plt.scatter, alpha=.5)\n",
    "# Fit line summarizing the linear relationship of the two variables.\n",
    "g.map_lower(sns.regplot, scatter_kws=dict(alpha=0))\n",
    "# Give information about the univariate distributions of the variables.\n",
    "g.map_diag(sns.kdeplot, lw=3)\n",
    "plt.show()"
   ]
  },
  {
   "cell_type": "markdown",
   "metadata": {},
   "source": [
    "Variables are correlated.\\n\n",
    "Distribution of most variables are not normal, because of few high outliers. \\n"
   ]
  },
  {
   "cell_type": "code",
   "execution_count": 8,
   "metadata": {},
   "outputs": [
    {
     "data": {
      "text/html": [
       "<div>\n",
       "<style scoped>\n",
       "    .dataframe tbody tr th:only-of-type {\n",
       "        vertical-align: middle;\n",
       "    }\n",
       "\n",
       "    .dataframe tbody tr th {\n",
       "        vertical-align: top;\n",
       "    }\n",
       "\n",
       "    .dataframe thead th {\n",
       "        text-align: right;\n",
       "    }\n",
       "</style>\n",
       "<table border=\"1\" class=\"dataframe\">\n",
       "  <thead>\n",
       "    <tr style=\"text-align: right;\">\n",
       "      <th></th>\n",
       "      <th>City</th>\n",
       "      <th>Population</th>\n",
       "      <th>Murder and nonnegligent manslaughter</th>\n",
       "      <th>Robbery</th>\n",
       "      <th>Property crime</th>\n",
       "    </tr>\n",
       "  </thead>\n",
       "  <tbody>\n",
       "    <tr>\n",
       "      <th>216</th>\n",
       "      <td>New York</td>\n",
       "      <td>8396126</td>\n",
       "      <td>335</td>\n",
       "      <td>19170</td>\n",
       "      <td>141971</td>\n",
       "    </tr>\n",
       "    <tr>\n",
       "      <th>35</th>\n",
       "      <td>Buffalo</td>\n",
       "      <td>258789</td>\n",
       "      <td>47</td>\n",
       "      <td>1322</td>\n",
       "      <td>12491</td>\n",
       "    </tr>\n",
       "    <tr>\n",
       "      <th>272</th>\n",
       "      <td>Rochester</td>\n",
       "      <td>210562</td>\n",
       "      <td>42</td>\n",
       "      <td>918</td>\n",
       "      <td>10051</td>\n",
       "    </tr>\n",
       "    <tr>\n",
       "      <th>346</th>\n",
       "      <td>Yonkers</td>\n",
       "      <td>199134</td>\n",
       "      <td>6</td>\n",
       "      <td>390</td>\n",
       "      <td>2368</td>\n",
       "    </tr>\n",
       "    <tr>\n",
       "      <th>310</th>\n",
       "      <td>Syracuse</td>\n",
       "      <td>143834</td>\n",
       "      <td>21</td>\n",
       "      <td>400</td>\n",
       "      <td>6473</td>\n",
       "    </tr>\n",
       "  </tbody>\n",
       "</table>\n",
       "</div>"
      ],
      "text/plain": [
       "          City  Population  Murder and nonnegligent manslaughter  Robbery  \\\n",
       "216   New York     8396126                                   335    19170   \n",
       "35     Buffalo      258789                                    47     1322   \n",
       "272  Rochester      210562                                    42      918   \n",
       "346    Yonkers      199134                                     6      390   \n",
       "310   Syracuse      143834                                    21      400   \n",
       "\n",
       "     Property crime  \n",
       "216          141971  \n",
       "35            12491  \n",
       "272           10051  \n",
       "346            2368  \n",
       "310            6473  "
      ]
     },
     "execution_count": 8,
     "metadata": {},
     "output_type": "execute_result"
    }
   ],
   "source": [
    "# Sort data by population\n",
    "dfi.sort_values(by=['Population'], ascending =False).head()"
   ]
  },
  {
   "cell_type": "markdown",
   "metadata": {},
   "source": [
    "The highest outlier population-vice is New York. Therefore, I remove New York data."
   ]
  },
  {
   "cell_type": "code",
   "execution_count": 9,
   "metadata": {},
   "outputs": [
    {
     "name": "stdout",
     "output_type": "stream",
     "text": [
      "             City  Population  Murder and nonnegligent manslaughter  Robbery  \\\n",
      "35        Buffalo      258789                                    47     1322   \n",
      "272     Rochester      210562                                    42      918   \n",
      "346       Yonkers      199134                                     6      390   \n",
      "310      Syracuse      143834                                    21      400   \n",
      "7    Amherst Town      118296                                     1       31   \n",
      "\n",
      "     Property crime  \n",
      "35            12491  \n",
      "272           10051  \n",
      "346            2368  \n",
      "310            6473  \n",
      "7              2118  \n"
     ]
    }
   ],
   "source": [
    "# Remove New York data point\n",
    "dfi_noNY= dfi[dfi['City'] != 'New York']\n",
    "print(dfi_noNY.sort_values(by=['Population'], ascending =False).head())"
   ]
  },
  {
   "cell_type": "code",
   "execution_count": 10,
   "metadata": {},
   "outputs": [
    {
     "name": "stderr",
     "output_type": "stream",
     "text": [
      "C:\\Users\\Ruecker-PC\\Anaconda3\\lib\\site-packages\\seaborn\\axisgrid.py:703: UserWarning: Using the boxplot function without specifying `order` is likely to produce an incorrect plot.\n",
      "  warnings.warn(warning)\n",
      "No handles with labels found to put in legend.\n",
      "No handles with labels found to put in legend.\n",
      "No handles with labels found to put in legend.\n",
      "No handles with labels found to put in legend.\n"
     ]
    },
    {
     "data": {
      "image/png": "[encoded data removed]",
      "text/plain": [
       "<Figure size 900x360 with 4 Axes>"
      ]
     },
     "metadata": {},
     "output_type": "display_data"
    },
    {
     "data": {
      "image/png": "[encoded data removed]",
      "text/plain": [
       "<Figure size 720x720 with 20 Axes>"
      ]
     },
     "metadata": {},
     "output_type": "display_data"
    }
   ],
   "source": [
    "# Recheck data \n",
    "df2s = pd.melt(dfi_noNY, id_vars=['City'])\n",
    "df2s.head()\n",
    "g = sns.FacetGrid(df2s, col=\"variable\",sharey=False,sharex=False, col_wrap=5, size=5, aspect=.5)\n",
    "g = (g.map(sns.boxplot, \"value\"))\n",
    "g=g.set(xscale=\"log\")\n",
    "\n",
    "# Make a scatterplot matrix.\n",
    "g = sns.PairGrid(dfi_noNY.dropna(), diag_sharey=False)\n",
    "# Scatterplot.\n",
    "g.map_upper(plt.scatter, alpha=.5)\n",
    "# Fit line summarizing the linear relationship of the two variables.\n",
    "g.map_lower(sns.regplot, scatter_kws=dict(alpha=0))\n",
    "# Give information about the univariate distributions of the variables.\n",
    "g.map_diag(sns.kdeplot, lw=3)\n",
    "plt.show()"
   ]
  },
  {
   "cell_type": "markdown",
   "metadata": {},
   "source": [
    " Robbery and murder have outlier as well, but these variables will be converted into binaries anyway, therefore I ignore them."
   ]
  },
  {
   "cell_type": "markdown",
   "metadata": {},
   "source": [
    "## Generate new features"
   ]
  },
  {
   "cell_type": "code",
   "execution_count": 11,
   "metadata": {},
   "outputs": [
    {
     "name": "stderr",
     "output_type": "stream",
     "text": [
      "C:\\Users\\Ruecker-PC\\Anaconda3\\lib\\site-packages\\ipykernel_launcher.py:3: SettingWithCopyWarning: \n",
      "A value is trying to be set on a copy of a slice from a DataFrame.\n",
      "Try using .loc[row_indexer,col_indexer] = value instead\n",
      "\n",
      "See the caveats in the documentation: http://pandas.pydata.org/pandas-docs/stable/indexing.html#indexing-view-versus-copy\n",
      "  This is separate from the ipykernel package so we can avoid doing imports until\n",
      "C:\\Users\\Ruecker-PC\\Anaconda3\\lib\\site-packages\\ipykernel_launcher.py:4: SettingWithCopyWarning: \n",
      "A value is trying to be set on a copy of a slice from a DataFrame.\n",
      "Try using .loc[row_indexer,col_indexer] = value instead\n",
      "\n",
      "See the caveats in the documentation: http://pandas.pydata.org/pandas-docs/stable/indexing.html#indexing-view-versus-copy\n",
      "  after removing the cwd from sys.path.\n",
      "C:\\Users\\Ruecker-PC\\Anaconda3\\lib\\site-packages\\ipykernel_launcher.py:5: SettingWithCopyWarning: \n",
      "A value is trying to be set on a copy of a slice from a DataFrame.\n",
      "Try using .loc[row_indexer,col_indexer] = value instead\n",
      "\n",
      "See the caveats in the documentation: http://pandas.pydata.org/pandas-docs/stable/indexing.html#indexing-view-versus-copy\n",
      "  \"\"\"\n"
     ]
    },
    {
     "data": {
      "text/html": [
       "<div>\n",
       "<style scoped>\n",
       "    .dataframe tbody tr th:only-of-type {\n",
       "        vertical-align: middle;\n",
       "    }\n",
       "\n",
       "    .dataframe tbody tr th {\n",
       "        vertical-align: top;\n",
       "    }\n",
       "\n",
       "    .dataframe thead th {\n",
       "        text-align: right;\n",
       "    }\n",
       "</style>\n",
       "<table border=\"1\" class=\"dataframe\">\n",
       "  <thead>\n",
       "    <tr style=\"text-align: right;\">\n",
       "      <th></th>\n",
       "      <th>City</th>\n",
       "      <th>Population</th>\n",
       "      <th>Murder and nonnegligent manslaughter</th>\n",
       "      <th>Robbery</th>\n",
       "      <th>Property crime</th>\n",
       "      <th>Population^2</th>\n",
       "      <th>Murder_Bi</th>\n",
       "      <th>Robbery_Bi</th>\n",
       "    </tr>\n",
       "  </thead>\n",
       "  <tbody>\n",
       "    <tr>\n",
       "      <th>0</th>\n",
       "      <td>Adams Village</td>\n",
       "      <td>1861</td>\n",
       "      <td>0</td>\n",
       "      <td>0</td>\n",
       "      <td>12</td>\n",
       "      <td>3463321</td>\n",
       "      <td>0</td>\n",
       "      <td>0</td>\n",
       "    </tr>\n",
       "    <tr>\n",
       "      <th>1</th>\n",
       "      <td>Addison Town and Village</td>\n",
       "      <td>2577</td>\n",
       "      <td>0</td>\n",
       "      <td>0</td>\n",
       "      <td>24</td>\n",
       "      <td>6640929</td>\n",
       "      <td>0</td>\n",
       "      <td>0</td>\n",
       "    </tr>\n",
       "    <tr>\n",
       "      <th>2</th>\n",
       "      <td>Akron Village</td>\n",
       "      <td>2846</td>\n",
       "      <td>0</td>\n",
       "      <td>0</td>\n",
       "      <td>16</td>\n",
       "      <td>8099716</td>\n",
       "      <td>0</td>\n",
       "      <td>0</td>\n",
       "    </tr>\n",
       "    <tr>\n",
       "      <th>3</th>\n",
       "      <td>Albany</td>\n",
       "      <td>97956</td>\n",
       "      <td>8</td>\n",
       "      <td>227</td>\n",
       "      <td>4090</td>\n",
       "      <td>9595377936</td>\n",
       "      <td>1</td>\n",
       "      <td>1</td>\n",
       "    </tr>\n",
       "    <tr>\n",
       "      <th>4</th>\n",
       "      <td>Albion Village</td>\n",
       "      <td>6388</td>\n",
       "      <td>0</td>\n",
       "      <td>4</td>\n",
       "      <td>223</td>\n",
       "      <td>40806544</td>\n",
       "      <td>0</td>\n",
       "      <td>1</td>\n",
       "    </tr>\n",
       "  </tbody>\n",
       "</table>\n",
       "</div>"
      ],
      "text/plain": [
       "                       City  Population  Murder and nonnegligent manslaughter  \\\n",
       "0             Adams Village        1861                                     0   \n",
       "1  Addison Town and Village        2577                                     0   \n",
       "2             Akron Village        2846                                     0   \n",
       "3                    Albany       97956                                     8   \n",
       "4            Albion Village        6388                                     0   \n",
       "\n",
       "   Robbery  Property crime  Population^2  Murder_Bi  Robbery_Bi  \n",
       "0        0              12       3463321          0           0  \n",
       "1        0              24       6640929          0           0  \n",
       "2        0              16       8099716          0           0  \n",
       "3      227            4090    9595377936          1           1  \n",
       "4        4             223      40806544          0           1  "
      ]
     },
     "execution_count": 11,
     "metadata": {},
     "output_type": "execute_result"
    }
   ],
   "source": [
    "# Generate new features based on the instruction of the assignment\n",
    "def gen_new_features(df):\n",
    "    df['Population^2']=df['Population']**2\n",
    "    df['Murder_Bi']=np.where(df['Murder and nonnegligent manslaughter']>0, 1, 0)\n",
    "    df['Robbery_Bi']=np.where(df['Robbery']>0, 1, 0)\n",
    "    return df\n",
    "# Whole dataset\n",
    "dfi_nF =  gen_new_features(dfi)\n",
    "# Not corrected for outliers except for NY\n",
    "dfi_noNY_nF =  gen_new_features(dfi_noNY)\n",
    "\n",
    "dfi_noNY_nF.head()"
   ]
  },
  {
   "cell_type": "markdown",
   "metadata": {},
   "source": [
    "# Generate Model\n",
    "$$ Property crime = \\alpha + Population + Population^2 + Murder + Robbery$$\n",
    "\n",
    "Assignment: <br>\n",
    "Now that you've spent some time playing with a sample multivariate linear regression model, it's time to make your own.<br>\n",
    "<br>\n",
    "You've already gotten started by prepping the FBI:UCR Crime dataset (Thinkful mirror) in a previous assignment.<br>\n",
    "<br>\n",
    "Using this data, build a regression model to predict property crimes. You can use the features you prepared in the previous assignment, new features of your own choosing, or a combination. The goal here is prediction rather han understanding mechanisms, so the focus is on creating a model that explains a lot of variance.<br>\n",
    "<br>\n",
    "Submit a notebook with your model and a brief writeup of your feature engineering and selection process to submit and review with your mentor."
   ]
  },
  {
   "cell_type": "code",
   "execution_count": 12,
   "metadata": {},
   "outputs": [
    {
     "name": "stdout",
     "output_type": "stream",
     "text": [
      "\n",
      "Coefficients: \n",
      " [[1.29510871e-02 1.14920528e-07 1.95038666e+02 9.28205845e+01]]\n",
      "\n",
      "Intercept: \n",
      " [-16.81586632]\n",
      "\n",
      "R-squared: \n",
      " 0.8444937611173492\n",
      "                   City  Population  Murder and nonnegligent manslaughter  \\\n",
      "346             Yonkers      199134                                     6   \n",
      "267         Ramapo Town       87204                                     2   \n",
      "7          Amherst Town      118296                                     1   \n",
      "84   East Fishkill Town       29315                                     1   \n",
      "127     Greenburgh Town       44787                                     1   \n",
      "\n",
      "     Robbery  Property crime  Population^2  Murder_Bi  Robbery_Bi  residuals  \n",
      "346      390            2368   39654349956          1           1  -5039.144  \n",
      "267        9             567    7604537616          1           1  -1707.347  \n",
      "7         31            2118   13993943616          1           1  -1293.297  \n",
      "84         1             165     859369225          1           1   -584.464  \n",
      "127       16             578    2005875369          1           1   -503.600  \n"
     ]
    },
    {
     "name": "stderr",
     "output_type": "stream",
     "text": [
      "C:\\Users\\Ruecker-PC\\Anaconda3\\lib\\site-packages\\ipykernel_launcher.py:22: SettingWithCopyWarning: \n",
      "A value is trying to be set on a copy of a slice from a DataFrame.\n",
      "Try using .loc[row_indexer,col_indexer] = value instead\n",
      "\n",
      "See the caveats in the documentation: http://pandas.pydata.org/pandas-docs/stable/indexing.html#indexing-view-versus-copy\n"
     ]
    },
    {
     "data": {
      "image/png": "[encoded data removed]",
      "text/plain": [
       "<Figure size 432x288 with 1 Axes>"
      ]
     },
     "metadata": {},
     "output_type": "display_data"
    },
    {
     "data": {
      "image/png": "[encoded data removed]",
      "text/plain": [
       "<Figure size 432x288 with 1 Axes>"
      ]
     },
     "metadata": {},
     "output_type": "display_data"
    }
   ],
   "source": [
    "# Instantiate and fit model for outlier-corrected data\n",
    "regr = linear_model.LinearRegression()\n",
    "target = dfi_noNY['Property crime'].values.reshape(-1, 1) #Y\n",
    "data = dfi_noNY[['Population','Population^2','Murder_Bi','Robbery_Bi']] #X\n",
    "\n",
    "#data_train, data_test, target_train, target_test = train_test_split(data, target, test_size=0.2, random_state=20)\n",
    "\n",
    "regr.fit(data, target)\n",
    "\n",
    "# Inspect the results.\n",
    "print('\\nCoefficients: \\n', regr.coef_)\n",
    "print('\\nIntercept: \\n', regr.intercept_)\n",
    "print('\\nR-squared: \\n', regr.score(data, target))\n",
    "# Extract predicted values.\n",
    "predicted = regr.predict(data).ravel()\n",
    "actual = dfi_noNY['Property crime']\n",
    "\n",
    "# Calculate the error, also called the residual.\n",
    "residual = actual - predicted\n",
    "\n",
    "#Check the -6000 outlier\n",
    "dfi_noNY['residuals']=residual\n",
    "print(dfi_noNY.sort_values(by=['residuals']).head())\n",
    "\n",
    "# Error histogram\n",
    "plt.hist(residual)\n",
    "plt.title('Residual counts')\n",
    "plt.xlabel('Residual')\n",
    "plt.ylabel('Count')\n",
    "plt.show()\n",
    "\n",
    "# Error scatter plot\n",
    "plt.scatter(predicted, residual)\n",
    "plt.xlabel('Predicted')\n",
    "plt.ylabel('Residual')\n",
    "plt.axhline(y=0)\n",
    "plt.title('Residual vs. Predicted')\n",
    "plt.show()"
   ]
  },
  {
   "cell_type": "code",
   "execution_count": 13,
   "metadata": {},
   "outputs": [],
   "source": [
    "def run_model(df):    \n",
    "    # Instantiate and fit model for outlier-corrected data\n",
    "    regr = linear_model.LinearRegression()\n",
    "    target = df['Property crime'].values.reshape(-1, 1) #Y\n",
    "    data = df[['Population','Population^2','Murder_Bi','Robbery_Bi']] #X\n",
    "\n",
    "    #data_train, data_test, target_train, target_test = train_test_split(data, target, test_size=0.2, random_state=20)\n",
    "\n",
    "    regr.fit(data, target)\n",
    "\n",
    "    # Inspect the results.\n",
    "    print('\\nCoefficients: \\n', regr.coef_)\n",
    "    print('\\nIntercept: \\n', regr.intercept_)\n",
    "    print('\\nR-squared: \\n', regr.score(data, target))\n",
    "    # Extract predicted values.\n",
    "    predicted = regr.predict(data).ravel()\n",
    "    actual = df['Property crime']\n",
    "\n",
    "    # Calculate the error, also called the residual.\n",
    "    residual = actual - predicted\n",
    "    \n",
    "    # Error histogram\n",
    "    plt.hist(residual)\n",
    "    plt.title('Residual counts')\n",
    "    plt.xlabel('Residual')\n",
    "    plt.ylabel('Count')\n",
    "    plt.show()\n",
    "\n",
    "    # Error scatter plot\n",
    "    plt.scatter(predicted, residual)\n",
    "    plt.xlabel('Predicted')\n",
    "    plt.ylabel('Residual')\n",
    "    plt.axhline(y=0)\n",
    "    plt.title('Residual vs. Predicted')\n",
    "    plt.show()"
   ]
  },
  {
   "cell_type": "code",
   "execution_count": 14,
   "metadata": {},
   "outputs": [
    {
     "name": "stdout",
     "output_type": "stream",
     "text": [
      "                   City  Population  Murder and nonnegligent manslaughter  \\\n",
      "267         Ramapo Town       87204                                     2   \n",
      "7          Amherst Town      118296                                     1   \n",
      "84   East Fishkill Town       29315                                     1   \n",
      "127     Greenburgh Town       44787                                     1   \n",
      "117           Glen Cove       27134                                     0   \n",
      "\n",
      "     Robbery  Property crime  Population^2  Murder_Bi  Robbery_Bi  residuals  \n",
      "267        9             567    7604537616          1           1  -1707.347  \n",
      "7         31            2118   13993943616          1           1  -1293.297  \n",
      "84         1             165     859369225          1           1   -584.464  \n",
      "127       16             578    2005875369          1           1   -503.600  \n",
      "117        1              62     736253956          0           1   -450.030  \n",
      "\n",
      "Coefficients: \n",
      " [[1.32534368e-02 1.40349994e-07 1.87915055e+02 7.78911683e+01]]\n",
      "\n",
      "Intercept: \n",
      " [-19.24431704]\n",
      "\n",
      "R-squared: \n",
      " 0.9265183479831967\n"
     ]
    },
    {
     "data": {
      "image/png": "[encoded data removed]",
      "text/plain": [
       "<Figure size 432x288 with 1 Axes>"
      ]
     },
     "metadata": {},
     "output_type": "display_data"
    },
    {
     "data": {
      "image/png": "[encoded data removed]",
      "text/plain": [
       "<Figure size 432x288 with 1 Axes>"
      ]
     },
     "metadata": {},
     "output_type": "display_data"
    }
   ],
   "source": [
    "# Identified Yonkers as outlier -> remove\n",
    "dfi_noNYJ = dfi_noNY.drop(index=346)\n",
    "print(dfi_noNYJ.sort_values(by=['residuals']).head())\n",
    "run_model(dfi_noNYJ)"
   ]
  },
  {
   "cell_type": "markdown",
   "metadata": {},
   "source": [
    "# Test Model\n",
    "\n",
    "## Assignment:<br>\n",
    "Validating regression models for prediction<br>\n",
    "Statistical tests are useful for making sure a model is a good fit to the test data, and that all the features are useful to the model. However, to make sure a model has good predictive validity for new data, it is necessary to assess the performance of the model on new datasets.<br>\n",
    "<br>\n",
    "The procedure is the same as what you learned in the Naive Bayes lesson – the holdout method and cross-validation method are both available. You've already had experience writing code to run these kinds of validation models for Naive Bayes: now you can try it again with linear regression. In this case, your goal is to achieve a model with a consistent R2 and only statistically significant parameters across multiple samples.<br>\n",
    "<br>\n",
    "We'll use the property crime model you've been working on with, based on the FBI:UCR data. Since your model formulation to date has used the entire New York State 2013 dataset, you'll need to validate it using some of the other crime datasets available at the FBI:UCR website. Options include other states crime rates in 2013 or crime rates in New York State in other years or a combination of these.<br>\n",
    "<br>\n",
    "Iterate<br>\n",
    "Based on the results of your validation test, create a revised model, and then test both old and new models on a new holdout or set of folds.<br>\n",
    "\n",
    "Include your model(s) and a brief writeup of the reasoning behind the validation method you chose and the changes you made to submit and review with your mentor."
   ]
  },
  {
   "cell_type": "markdown",
   "metadata": {},
   "source": [
    "## Statistical model evaluation"
   ]
  },
  {
   "cell_type": "code",
   "execution_count": 15,
   "metadata": {},
   "outputs": [
    {
     "name": "stdout",
     "output_type": "stream",
     "text": [
      "                            OLS Regression Results                            \n",
      "==============================================================================\n",
      "Dep. Variable:          PropertyCrime   R-squared:                       0.845\n",
      "Model:                            OLS   Adj. R-squared:                  0.844\n",
      "Method:                 Least Squares   F-statistic:                     466.5\n",
      "Date:                Wed, 18 Jul 2018   Prob (F-statistic):          7.55e-137\n",
      "Time:                        22:43:54   Log-Likelihood:                -2567.8\n",
      "No. Observations:                 346   AIC:                             5146.\n",
      "Df Residuals:                     341   BIC:                             5165.\n",
      "Df Model:                           4                                         \n",
      "Covariance Type:            nonrobust                                         \n",
      "==================================================================================\n",
      "                     coef    std err          t      P>|t|      [0.025      0.975]\n",
      "----------------------------------------------------------------------------------\n",
      "Intercept       -126.3761     34.909     -3.620      0.000    -195.041     -57.711\n",
      "Population         3.9288     10.977      0.358      0.721     -17.662      25.520\n",
      "Population ^ 2    -3.8903     10.977     -0.354      0.723     -25.481      17.701\n",
      "Murder_Bi        -23.9427     74.442     -0.322      0.748    -170.367     122.481\n",
      "Robbery_Bi      -141.1198     48.419     -2.915      0.004    -236.358     -45.882\n",
      "==============================================================================\n",
      "Omnibus:                       91.816   Durbin-Watson:                   1.967\n",
      "Prob(Omnibus):                  0.000   Jarque-Bera (JB):             3380.104\n",
      "Skew:                          -0.133   Prob(JB):                         0.00\n",
      "Kurtosis:                      18.310   Cond. No.                     1.44e+05\n",
      "==============================================================================\n",
      "\n",
      "Warnings:\n",
      "[1] Standard Errors assume that the covariance matrix of the errors is correctly specified.\n",
      "[2] The condition number is large, 1.44e+05. This might indicate that there are\n",
      "strong multicollinearity or other numerical problems.\n"
     ]
    },
    {
     "name": "stderr",
     "output_type": "stream",
     "text": [
      "C:\\Users\\Ruecker-PC\\Anaconda3\\lib\\site-packages\\ipykernel_launcher.py:2: SettingWithCopyWarning: \n",
      "A value is trying to be set on a copy of a slice from a DataFrame.\n",
      "Try using .loc[row_indexer,col_indexer] = value instead\n",
      "\n",
      "See the caveats in the documentation: http://pandas.pydata.org/pandas-docs/stable/indexing.html#indexing-view-versus-copy\n",
      "  \n",
      "C:\\Users\\Ruecker-PC\\Anaconda3\\lib\\site-packages\\ipykernel_launcher.py:3: SettingWithCopyWarning: \n",
      "A value is trying to be set on a copy of a slice from a DataFrame.\n",
      "Try using .loc[row_indexer,col_indexer] = value instead\n",
      "\n",
      "See the caveats in the documentation: http://pandas.pydata.org/pandas-docs/stable/indexing.html#indexing-view-versus-copy\n",
      "  This is separate from the ipykernel package so we can avoid doing imports until\n"
     ]
    }
   ],
   "source": [
    "def rename_cols(df):\n",
    "    df['PropertyCrime']=df['Property crime']\n",
    "    df['Murder']=df['Murder and nonnegligent manslaughter']\n",
    "    return df\n",
    "\n",
    "dfi_noNYJ1 = rename_cols(dfi_noNYJ)\n",
    "dfi_noNY1 = rename_cols(dfi_noNY)\n",
    "#print(dfi_noNY1.head())\n",
    "\n",
    "linear_formula= 'PropertyCrime~Population+Population^2+Murder_Bi+Robbery_Bi'#Population^2+Population^2+Murder_Bi+Robbery_Bi'\n",
    "lm= smf.ols(formula=linear_formula, data= dfi_noNYJ1).fit()\n",
    "\n",
    "print(lm.summary())\n"
   ]
  },
  {
   "cell_type": "markdown",
   "metadata": {},
   "source": [
    "The model as a whole has a significant p-value when performing the F-test, but only the Robbery_Bi feature has a significant p-value. The second warning indicates that the multicollinearity is problematic. All variables correlate with the population, the higher the population the higher the likelyhood for crimes in general. The convidence interval for alpha includes 0,there is warning of collinearity and the p-values is not significant (except for murder_bi) are not significant. This is not a good model.<br>\n",
    "To make a new revised model, I tested each of the variables alone: population and population^2 both deliever R-squares of 0.78. Whereas the binary features of robbery and murder are not helpful with R^2 below 0.2.When introducing back other variables from the original data, numerical data for robbery and murder, robbery alone yields R^2=0.87, murder alone gives R^2=0.84.<br>\n",
    "When combining murder with population R^2 = 0.92 and both features get significant p-values. When combining robbery with population R^2 = 0.91 and both features get significant p-values.The combination of robbery, murder and population yields R^2 of 0.93, therefore I will use the following revised model:<br>\n",
    "<br>\n",
    "$$ Property crime = \\alpha + Population + Murder(numerical) + Robbery(numerical)$$\n",
    "<br>\n"
   ]
  },
  {
   "cell_type": "code",
   "execution_count": 16,
   "metadata": {},
   "outputs": [
    {
     "name": "stdout",
     "output_type": "stream",
     "text": [
      "                            OLS Regression Results                            \n",
      "==============================================================================\n",
      "Dep. Variable:          PropertyCrime   R-squared:                       0.951\n",
      "Model:                            OLS   Adj. R-squared:                  0.951\n",
      "Method:                 Least Squares   F-statistic:                     2232.\n",
      "Date:                Wed, 18 Jul 2018   Prob (F-statistic):          3.68e-224\n",
      "Time:                        22:43:54   Log-Likelihood:                -2367.7\n",
      "No. Observations:                 346   AIC:                             4743.\n",
      "Df Residuals:                     342   BIC:                             4759.\n",
      "Df Model:                           3                                         \n",
      "Covariance Type:            nonrobust                                         \n",
      "==============================================================================\n",
      "                 coef    std err          t      P>|t|      [0.025      0.975]\n",
      "------------------------------------------------------------------------------\n",
      "Intercept    -12.4303     15.836     -0.785      0.433     -43.579      18.718\n",
      "Population     0.0188      0.001     22.594      0.000       0.017       0.020\n",
      "Robbery        4.6393      0.593      7.827      0.000       3.473       5.805\n",
      "Murder        41.3698     14.018      2.951      0.003      13.798      68.941\n",
      "==============================================================================\n",
      "Omnibus:                       77.971   Durbin-Watson:                   2.001\n",
      "Prob(Omnibus):                  0.000   Jarque-Bera (JB):             1783.335\n",
      "Skew:                          -0.112   Prob(JB):                         0.00\n",
      "Kurtosis:                      14.120   Cond. No.                     3.83e+04\n",
      "==============================================================================\n",
      "\n",
      "Warnings:\n",
      "[1] Standard Errors assume that the covariance matrix of the errors is correctly specified.\n",
      "[2] The condition number is large, 3.83e+04. This might indicate that there are\n",
      "strong multicollinearity or other numerical problems.\n"
     ]
    }
   ],
   "source": [
    "# Test revised model\n",
    "linear_formula= 'PropertyCrime ~ Population + Robbery + Murder'#Population^2+Population^2+Murder_Bi+Robbery_Bi'\n",
    "lm= smf.ols(formula=linear_formula, data= dfi_noNYJ1).fit()\n",
    "\n",
    "print(lm.summary())"
   ]
  },
  {
   "cell_type": "markdown",
   "metadata": {},
   "source": [
    "## Test revised model on crime data from other states"
   ]
  },
  {
   "cell_type": "code",
   "execution_count": 17,
   "metadata": {},
   "outputs": [
    {
     "name": "stderr",
     "output_type": "stream",
     "text": [
      "C:\\Users\\Ruecker-PC\\Anaconda3\\lib\\site-packages\\pandas\\util\\_decorators.py:177: FutureWarning: the 'skip_footer' keyword is deprecated, use 'skipfooter' instead\n",
      "  return func(*args, **kwargs)\n"
     ]
    },
    {
     "name": "stdout",
     "output_type": "stream",
     "text": [
      "City : 0.0 % is Nan\n",
      "Population : 0.0 % is Nan\n",
      "Murder and nonnegligent manslaughter : 0.0 % is Nan\n",
      "Robbery : 0.0 % is Nan\n",
      "Property crime : 0.0 % is Nan\n",
      "City : 0.0 % is Nan\n",
      "Population : 0.0 % is Nan\n",
      "Murder and nonnegligent manslaughter : 0.0 % is Nan\n",
      "Robbery : 0.0 % is Nan\n",
      "Property crime : 0.0 % is Nan\n",
      "City : 0.0 % is Nan\n",
      "Population : 0.0 % is Nan\n",
      "Murder and nonnegligent manslaughter : 0.0 % is Nan\n",
      "Robbery : 0.0 % is Nan\n",
      "Property crime : 0.0 % is Nan\n",
      "City : 0.0 % is Nan\n",
      "Population : 0.0 % is Nan\n",
      "Murder and nonnegligent manslaughter : 0.0 % is Nan\n",
      "Robbery : 0.0 % is Nan\n",
      "Property crime : 0.0 % is Nan\n",
      "City : 0.0 % is Nan\n",
      "Population : 0.0 % is Nan\n",
      "Murder and nonnegligent manslaughter : 0.0 % is Nan\n",
      "Robbery : 0.0 % is Nan\n",
      "Property crime : 0.0 % is Nan\n",
      "City : 0.0 % is Nan\n",
      "Population : 0.0 % is Nan\n",
      "Murder and nonnegligent manslaughter : 0.0 % is Nan\n",
      "Robbery : 0.0 % is Nan\n",
      "Property crime : 0.0 % is Nan\n",
      "City : 0.0 % is Nan\n",
      "Population : 0.0 % is Nan\n",
      "Murder and nonnegligent manslaughter : 0.0 % is Nan\n",
      "Robbery : 0.0 % is Nan\n",
      "Property crime : 0.0 % is Nan\n",
      "City : 0.0 % is Nan\n",
      "Population : 0.0 % is Nan\n",
      "Murder and nonnegligent manslaughter : 0.0 % is Nan\n",
      "Robbery : 0.0 % is Nan\n",
      "Property crime : 0.0 % is Nan\n",
      "City : 0.0 % is Nan\n",
      "Population : 1.834862385321101 % is Nan\n",
      "Murder and nonnegligent manslaughter : 0.0 % is Nan\n",
      "Robbery : 0.0 % is Nan\n",
      "Property crime : 0.0 % is Nan\n",
      "City : 0.0 % is Nan\n",
      "Population : 0.0 % is Nan\n",
      "Murder and nonnegligent manslaughter : 0.0 % is Nan\n",
      "Robbery : 0.0 % is Nan\n",
      "Property crime : 0.3448275862068966 % is Nan\n",
      "City : 0.0 % is Nan\n",
      "Population : 0.0 % is Nan\n",
      "Murder and nonnegligent manslaughter : 0.0 % is Nan\n",
      "Robbery : 0.0 % is Nan\n",
      "Property crime : 0.0 % is Nan\n"
     ]
    },
    {
     "name": "stderr",
     "output_type": "stream",
     "text": [
      "C:\\Users\\Ruecker-PC\\Anaconda3\\lib\\site-packages\\ipykernel_launcher.py:2: SettingWithCopyWarning: \n",
      "A value is trying to be set on a copy of a slice from a DataFrame.\n",
      "Try using .loc[row_indexer,col_indexer] = value instead\n",
      "\n",
      "See the caveats in the documentation: http://pandas.pydata.org/pandas-docs/stable/indexing.html#indexing-view-versus-copy\n",
      "  \n",
      "C:\\Users\\Ruecker-PC\\Anaconda3\\lib\\site-packages\\ipykernel_launcher.py:3: SettingWithCopyWarning: \n",
      "A value is trying to be set on a copy of a slice from a DataFrame.\n",
      "Try using .loc[row_indexer,col_indexer] = value instead\n",
      "\n",
      "See the caveats in the documentation: http://pandas.pydata.org/pandas-docs/stable/indexing.html#indexing-view-versus-copy\n",
      "  This is separate from the ipykernel package so we can avoid doing imports until\n"
     ]
    }
   ],
   "source": [
    "# Test data sets\n",
    "Cali = pd.read_excel(\"table_8_offenses_known_to_law_enforcement_california_by_city_2013.xls\",skiprows=4,skip_footer=2)\n",
    "#print(Cali.tail())\n",
    "Con = pd.read_excel(\"table_8_offenses_known_to_law_enforcement_connecticut_by_city_2013.xls\",skiprows=4,skip_footer=2)\n",
    "#print(Con.tail())\n",
    "Geor = pd.read_excel(\"table_8_offenses_known_to_law_enforcement_georgia_by_city_2013.xls\",skiprows=4,skip_footer=3)\n",
    "#print(Geor.tail())\n",
    "Louis = pd.read_excel(\"table_8_offenses_known_to_law_enforcement_louisiana_by_city_2013.xls\",skiprows=4,skip_footer=3)\n",
    "NoDa = pd.read_excel(\"table_8_offenses_known_to_law_enforcement_north_dakota_by_city_2013.xls\",skiprows=4,skip_footer=2)\n",
    "SoDa = pd.read_excel(\"table_8_offenses_known_to_law_enforcement_south_dakota_by_city_2013.xls\",skiprows=4,skip_footer=2)\n",
    "Okla = pd.read_excel(\"table_8_offenses_known_to_law_enforcement_oklahoma_by_city_2013.xls\",skiprows=4,skip_footer=2)\n",
    "Wash = pd.read_excel(\"table_8_offenses_known_to_law_enforcement_washington_by_city_2013.xls\",skiprows=4,skip_footer=3)\n",
    "Orgo =pd.read_excel(\"table_8_offenses_known_to_law_enforcement_oregon_by_city_2013.xls\",skiprows=4,skip_footer=2)\n",
    "Flor = pd.read_excel(\"table_8_offenses_known_to_law_enforcement_florida_by_city_2013.xls\",skiprows=4,skip_footer=3)\n",
    "Texa = pd.read_excel(\"table_8_offenses_known_to_law_enforcement_texas_by_city_2013.xls\",skiprows=4,skip_footer=3)\n",
    "# Clean those data sets\n",
    "\n",
    "\n",
    "def clean_data(df):\n",
    "    # Remove the new lines in the column names\n",
    "    df1 = df\n",
    "    df1.columns= df1.columns.str.replace('\\n',' ')\n",
    "\n",
    "    # Remove left and right white space from towns\n",
    "    df1.City = df1.City.str.lstrip()\n",
    "    df1.City = df1.City.str.rstrip()\n",
    "\n",
    "    # Drop unimportant variables\n",
    "    dfi = df1[['City','Population','Murder and nonnegligent manslaughter','Robbery','Property crime']]\n",
    "\n",
    "    #Report how much data is missing\n",
    "    check_nans(dfi)\n",
    "    \n",
    "    #Remove missing data\n",
    "    dfi_noNA=dfi.dropna()\n",
    "    \n",
    "    # Rename the Property crime and Murder... column\n",
    "    dfi_noNA_newnames = rename_cols(dfi_noNA)\n",
    "    \n",
    "    return(dfi_noNA_newnames)\n",
    "\n",
    "Cali_clean=clean_data(Cali)\n",
    "Con_clean=clean_data(Con)\n",
    "Geor_clean=clean_data(Geor)\n",
    "Louis_clean=clean_data(Louis)\n",
    "NoDa_clean=clean_data(NoDa)\n",
    "SoDa_clean=clean_data(SoDa)\n",
    "Okla_clean=clean_data(Okla)\n",
    "Wash_clean=clean_data(Wash)\n",
    "Orgo_clean=clean_data(Orgo)\n",
    "Flor_clean=clean_data(Flor)\n",
    "Texa_clean=clean_data(Texa)\n"
   ]
  },
  {
   "cell_type": "code",
   "execution_count": 18,
   "metadata": {},
   "outputs": [
    {
     "name": "stderr",
     "output_type": "stream",
     "text": [
      "C:\\Users\\Ruecker-PC\\Anaconda3\\lib\\site-packages\\ipykernel_launcher.py:27: UserWarning: Pandas doesn't allow columns to be created via a new attribute name - see https://pandas.pydata.org/pandas-docs/stable/indexing.html#attribute-access\n",
      "C:\\Users\\Ruecker-PC\\Anaconda3\\lib\\site-packages\\ipykernel_launcher.py:28: UserWarning: Pandas doesn't allow columns to be created via a new attribute name - see https://pandas.pydata.org/pandas-docs/stable/indexing.html#attribute-access\n",
      "C:\\Users\\Ruecker-PC\\Anaconda3\\lib\\site-packages\\ipykernel_launcher.py:29: UserWarning: Pandas doesn't allow columns to be created via a new attribute name - see https://pandas.pydata.org/pandas-docs/stable/indexing.html#attribute-access\n",
      "C:\\Users\\Ruecker-PC\\Anaconda3\\lib\\site-packages\\ipykernel_launcher.py:30: UserWarning: Pandas doesn't allow columns to be created via a new attribute name - see https://pandas.pydata.org/pandas-docs/stable/indexing.html#attribute-access\n",
      "C:\\Users\\Ruecker-PC\\Anaconda3\\lib\\site-packages\\ipykernel_launcher.py:31: UserWarning: Pandas doesn't allow columns to be created via a new attribute name - see https://pandas.pydata.org/pandas-docs/stable/indexing.html#attribute-access\n",
      "C:\\Users\\Ruecker-PC\\Anaconda3\\lib\\site-packages\\ipykernel_launcher.py:32: UserWarning: Pandas doesn't allow columns to be created via a new attribute name - see https://pandas.pydata.org/pandas-docs/stable/indexing.html#attribute-access\n",
      "C:\\Users\\Ruecker-PC\\Anaconda3\\lib\\site-packages\\ipykernel_launcher.py:33: UserWarning: Pandas doesn't allow columns to be created via a new attribute name - see https://pandas.pydata.org/pandas-docs/stable/indexing.html#attribute-access\n",
      "C:\\Users\\Ruecker-PC\\Anaconda3\\lib\\site-packages\\ipykernel_launcher.py:34: UserWarning: Pandas doesn't allow columns to be created via a new attribute name - see https://pandas.pydata.org/pandas-docs/stable/indexing.html#attribute-access\n",
      "C:\\Users\\Ruecker-PC\\Anaconda3\\lib\\site-packages\\ipykernel_launcher.py:35: UserWarning: Pandas doesn't allow columns to be created via a new attribute name - see https://pandas.pydata.org/pandas-docs/stable/indexing.html#attribute-access\n",
      "C:\\Users\\Ruecker-PC\\Anaconda3\\lib\\site-packages\\ipykernel_launcher.py:36: UserWarning: Pandas doesn't allow columns to be created via a new attribute name - see https://pandas.pydata.org/pandas-docs/stable/indexing.html#attribute-access\n",
      "C:\\Users\\Ruecker-PC\\Anaconda3\\lib\\site-packages\\ipykernel_launcher.py:37: UserWarning: Pandas doesn't allow columns to be created via a new attribute name - see https://pandas.pydata.org/pandas-docs/stable/indexing.html#attribute-access\n"
     ]
    }
   ],
   "source": [
    "def repeat_model_test(df_train,df_test,Repeats,frac):\n",
    "    \n",
    "    Scores=[]\n",
    "    \n",
    "    for i in range(Repeats):\n",
    "        df_testset = df_test.sample(frac=frac)\n",
    "        #initiate model\n",
    "        regr = linear_model.LinearRegression()\n",
    "\n",
    "        #define train datasets\n",
    "        train_target = df_train['Property crime'].values.reshape(-1, 1)\n",
    "        train_data = df_train[['Population','Murder','Robbery']]\n",
    "\n",
    "        #define datasets\n",
    "        test_target = df_testset['Property crime'].values.reshape(-1, 1)\n",
    "        test_data = df_testset[['Population','Murder','Robbery']]\n",
    "\n",
    "        #Train the Model\n",
    "        regr.fit(train_data,train_target)\n",
    "\n",
    "        # Inspect the results.\n",
    "        Score = regr.score(test_data,test_target)\n",
    "        Scores.append(Score)\n",
    "        \n",
    "    return(Scores)\n",
    "\n",
    "Cali.Scores = repeat_model_test(dfi_noNY,Cali_clean,1000, 0.5)\n",
    "Con.Scores = repeat_model_test(dfi_noNY,Con_clean,1000, 0.5)\n",
    "Geor.Scores = repeat_model_test(dfi_noNY,Geor_clean,1000, 0.5)\n",
    "Louis.Scores = repeat_model_test(dfi_noNY,Louis_clean,1000, 0.5)\n",
    "NoDa.Scores = repeat_model_test(dfi_noNY,NoDa_clean,1000, 0.5)\n",
    "SoDa.Scores = repeat_model_test(dfi_noNY,SoDa_clean,1000, 0.5)\n",
    "Okla.Scores = repeat_model_test(dfi_noNY,Okla_clean,1000, 0.5)\n",
    "Wash.Scores = repeat_model_test(dfi_noNY,Wash_clean,1000, 0.5)\n",
    "Orgo.Scores = repeat_model_test(dfi_noNY,Orgo_clean,1000, 0.5)\n",
    "Flor.Scores = repeat_model_test(dfi_noNY,Flor_clean,1000, 0.5)\n",
    "Texa.Scores = repeat_model_test(dfi_noNY,Texa_clean,1000, 0.5)"
   ]
  },
  {
   "cell_type": "code",
   "execution_count": 19,
   "metadata": {},
   "outputs": [
    {
     "data": {
      "image/png": "[encoded data removed]",
      "text/plain": [
       "<Figure size 720x720 with 1 Axes>"
      ]
     },
     "metadata": {},
     "output_type": "display_data"
    }
   ],
   "source": [
    "Scores = {'California': Cali.Scores, 'Connecticut': Con.Scores, 'Georgia': Geor.Scores,\n",
    "         'Louisiana': Louis.Scores, 'NorthDakota': NoDa.Scores, 'SouthDakota':SoDa.Scores,\n",
    "         'Washington': Wash.Scores,'Oregon': Orgo.Scores,'Florida': Flor.Scores,'Texas': Texa.Scores}\n",
    "results = pd.DataFrame(data=Scores)\n",
    "\n",
    "# Make a boxplot for comparison\n",
    "fig, ax = plt.subplots()\n",
    "fig.set_size_inches(10,10)\n",
    "im = sns.boxplot(data=results, ax=ax)\n",
    "im.set_title('Scores of model for different States')\n",
    "im.set_ylabel('Scores')\n",
    "im.set_xlabel('States')\n",
    "\n",
    "plt.show()"
   ]
  },
  {
   "cell_type": "markdown",
   "metadata": {},
   "source": [
    "# Result\n",
    "\n",
    "The aim of this challege was to optimize a linear regession model with crime data of New York state to predict property crimes in other states. After the statistical evaluation the model was revised to the following parameters:\n",
    "$$ Property crime = \\alpha + Population + Murder(numerical) + Robbery(numerical)$$\n",
    "\n",
    "\n",
    "When tested on crime data of other states, the model performed well with scores ranging from .85 - 0.9 for states like California, Connecticut, Florida and Texas.\n",
    "Whereas, for Georgia, Louisiana, South Dakota, Washington and Orgeon the scores are lower and repeated analysis of partial data sets resulted in large variability.\n",
    "\n",
    "This indicates that training the model only on data from New York State is not sufficient to make precise prediction for all States. Presumably, the model works well in states that have a similar population structure like New York State. Where as states with lower population density can not be modeled well.\n",
    "\n",
    "To solve this issue, it would be nessary to sample data from different states into the training set and at the same time introduce further variables for population density, and binary location variables for (East, West, Middle...)."
   ]
  }
 ],
 "metadata": {
  "hide_input": false,
  "kernelspec": {
   "display_name": "Python 3",
   "language": "python",
   "name": "python3"
  },
  "language_info": {
   "codemirror_mode": {
    "name": "ipython",
    "version": 3
   },
   "file_extension": ".py",
   "mimetype": "text/x-python",
   "name": "python",
   "nbconvert_exporter": "python",
   "pygments_lexer": "ipython3",
   "version": "3.6.5"
  },
  "toc": {
   "base_numbering": 1,
   "nav_menu": {
    "height": "86px",
    "width": "252px"
   },
   "number_sections": true,
   "sideBar": true,
   "skip_h1_title": false,
   "title_cell": "Table of Contents",
   "title_sidebar": "Contents",
   "toc_cell": false,
   "toc_position": {
    "height": "calc(100% - 180px)",
    "left": "10px",
    "top": "150px",
    "width": "253px"
   },
   "toc_section_display": "block",
   "toc_window_display": true
  },
  "varInspector": {
   "cols": {
    "lenName": 16,
    "lenType": 16,
    "lenVar": 40
   },
   "kernels_config": {
    "python": {
     "delete_cmd_postfix": "",
     "delete_cmd_prefix": "del ",
     "library": "var_list.py",
     "varRefreshCmd": "print(var_dic_list())"
    },
    "r": {
     "delete_cmd_postfix": ") ",
     "delete_cmd_prefix": "rm(",
     "library": "var_list.r",
     "varRefreshCmd": "cat(var_dic_list()) "
    }
   },
   "position": {
    "height": "395px",
    "left": "1550px",
    "right": "20px",
    "top": "120px",
    "width": "350px"
   },
   "types_to_exclude": [
    "module",
    "function",
    "builtin_function_or_method",
    "instance",
    "_Feature"
   ],
   "window_display": true
  }
 },
 "nbformat": 4,
 "nbformat_minor": 2
}
