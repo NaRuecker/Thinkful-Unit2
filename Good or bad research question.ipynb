{
 "cells": [
  {
   "cell_type": "markdown",
   "metadata": {},
   "source": [
    "# Good or bad research question?"
   ]
  },
  {
   "cell_type": "markdown",
   "metadata": {},
   "source": [
    "##### What is the 1994 rate of juvenile delinquency in the U.S.?\n",
    "Bad, could be more defined.\n",
    "Define juvenile:kids ages 10 - 18\n",
    "Define: delinquency\n",
    "Where in the US: Rural, city, state...\n",
    "Averaging the whole US does not seem to make a lot of sense.\n",
    "\n",
    "#### What can we do to reduce juvenile delinquency in the U.S.?\n",
    "This question, is a little better, because it is open for explanations.\n",
    "But first these questions have to be answered:\n",
    "1. Define which factors contribute to juvenile crimes.\n",
    "2. Which current methods have been helpfull to reduce juvenile crimes so far?\n",
    "\n",
    "#### Does education play a role in reducing juvenile delinquents' return to crime?\n",
    "This is a good question, because it is precise. It asked if one factor (education)\n",
    "has a role in reducing crimes for juveniles.\n",
    "\n",
    "#### How many customers does AT&T currently serve in Washington, DC?\n",
    "Ok, but could be more defined by product type.\n",
    "\n",
    "#### What factors lead consumers to choose AT&T over other service providers?\n",
    "Same as above, in which area, for which product.\n",
    "\n",
    "#### How can AT&T attract more customers?\n",
    "Bad, too broad.\n",
    "The answer will depend on many factors; for example the location of the customer and on service model the customer is looking for. Better: How can AT&T attract more customer for a prepaid plan in New York. \n",
    "\n",
    "#### Why did the Challenger Shuttle explode?\n",
    "Good question. Because the question is open for a lot of factors.\n",
    "It askes for all the data available.\n",
    "\n",
    "#### Which genes are associated with increased risk of breast cancer?\n",
    "Ok, but there are many types of breast cancer.\n",
    "\n",
    "#### Is it better to read to children at night or in the morning?\n",
    "Good.\n",
    "\n",
    "#### How does Google’s search algorithm work?\n",
    "Ok, but could be more refined by specifing which search engine is used maps, word search, figure search."
   ]
  },
  {
   "cell_type": "code",
   "execution_count": null,
   "metadata": {},
   "outputs": [],
   "source": []
  }
 ],
 "metadata": {
  "anaconda-cloud": {},
  "kernelspec": {
   "display_name": "Python 3",
   "language": "python",
   "name": "python3"
  },
  "language_info": {
   "codemirror_mode": {
    "name": "ipython",
    "version": 3
   },
   "file_extension": ".py",
   "mimetype": "text/x-python",
   "name": "python",
   "nbconvert_exporter": "python",
   "pygments_lexer": "ipython3",
   "version": "3.6.5"
  }
 },
 "nbformat": 4,
 "nbformat_minor": 1
}
